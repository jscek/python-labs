{
 "cells": [
  {
   "cell_type": "code",
   "execution_count": 21,
   "metadata": {},
   "outputs": [],
   "source": [
    "import re\n",
    "from string import ascii_lowercase"
   ]
  },
  {
   "cell_type": "code",
   "execution_count": 22,
   "metadata": {},
   "outputs": [],
   "source": [
    "all_vars = ascii_lowercase\n",
    "ops = '~^&|/>'\n",
    "consts = 'TF'"
   ]
  },
  {
   "cell_type": "code",
   "execution_count": 29,
   "metadata": {},
   "outputs": [],
   "source": [
    "inp = '(~a&b)|(a&~b)'"
   ]
  },
  {
   "cell_type": "code",
   "execution_count": 23,
   "metadata": {},
   "outputs": [],
   "source": [
    "def vars_list(expr):\n",
    "  return ''.join(sorted(set([c for c in expr if c in all_vars])))"
   ]
  },
  {
   "cell_type": "code",
   "execution_count": 26,
   "metadata": {},
   "outputs": [],
   "source": [
    "def skip_whitespaces(expr):\n",
    "  expr = ''.join(expr.split())\n",
    "  return expr"
   ]
  },
  {
   "cell_type": "code",
   "execution_count": 27,
   "metadata": {},
   "outputs": [],
   "source": [
    "def correct(expr):\n",
    "  state = True\n",
    "  parens = 0\n",
    "\n",
    "  for c in expr:\n",
    "    if c == '~':\n",
    "      state = True\n",
    "      continue\n",
    "    if state:\n",
    "      if c in (all_vars + consts):\n",
    "        state = False\n",
    "      elif c in (')' + ops):\n",
    "        return False\n",
    "    else:\n",
    "      if c in ops:\n",
    "        state = True\n",
    "      elif c in (all_vars + '('):\n",
    "        return False\n",
    "\n",
    "    if c == '(':\n",
    "      parens += 1\n",
    "    if c == ')':\n",
    "      parens -= 1\n",
    "\n",
    "    if parens < 0:\n",
    "      return False\n",
    "\n",
    "  if parens != 0:\n",
    "    return False\n",
    "\n",
    "  return not state"
   ]
  },
  {
   "cell_type": "code",
   "execution_count": 24,
   "metadata": {},
   "outputs": [],
   "source": [
    "def bal(expr, ops):\n",
    "  parens = 0\n",
    "\n",
    "  for i in range(len(expr) - 1, -1, -1):\n",
    "    if expr[i] == '(':\n",
    "      parens += 1\n",
    "    elif expr[i] == ')':\n",
    "      parens -= 1\n",
    "    elif expr[i] in ops and parens == 0:\n",
    "      return i\n",
    "  \n",
    "  return -1"
   ]
  },
  {
   "cell_type": "code",
   "execution_count": 14,
   "metadata": {},
   "outputs": [],
   "source": [
    "def onp(expr):\n",
    "\n",
    "  while (len(expr) > 2 and expr[0] == '(') and (expr[len(expr) - 1] == ')') and correct(expr[1:-1]):\n",
    "    expr = expr[1:-1]\n",
    "  \n",
    "  p = bal(expr, '~')\n",
    "  if p >= 0:\n",
    "    return expr[p] + onp(expr[:p]) + onp(expr[p + 1:]) \n",
    "\n",
    "  p = bal(expr, '^')\n",
    "  if p >= 0:\n",
    "    return expr[p] + onp(expr[:p]) + onp(expr[p + 1:])\n",
    "\n",
    "  p = bal(expr, '>')\n",
    "  if p >= 0:\n",
    "    return expr[p] + onp(expr[:p]) + onp(expr[p + 1:])\n",
    "  \n",
    "  p = bal(expr, '&|/')\n",
    "  if p >= 0:\n",
    "    return expr[p] + onp(expr[:p]) + onp(expr[p + 1:])\n",
    "\n",
    "\n",
    "  return expr"
   ]
  },
  {
   "cell_type": "code",
   "execution_count": 30,
   "metadata": {},
   "outputs": [
    {
     "name": "stdout",
     "output_type": "stream",
     "text": [
      "|&~ab~&ab\n"
     ]
    }
   ],
   "source": [
    "p = onp(inp)\n",
    "print(p)"
   ]
  },
  {
   "cell_type": "code",
   "execution_count": 10,
   "metadata": {},
   "outputs": [],
   "source": [
    "tree = []"
   ]
  },
  {
   "cell_type": "code",
   "execution_count": null,
   "metadata": {},
   "outputs": [],
   "source": []
  }
 ],
 "metadata": {
  "kernelspec": {
   "display_name": "Python 3",
   "language": "python",
   "name": "python3"
  },
  "language_info": {
   "codemirror_mode": {
    "name": "ipython",
    "version": 3
   },
   "file_extension": ".py",
   "mimetype": "text/x-python",
   "name": "python",
   "nbconvert_exporter": "python",
   "pygments_lexer": "ipython3",
   "version": "3.6.4"
  }
 },
 "nbformat": 4,
 "nbformat_minor": 2
}
