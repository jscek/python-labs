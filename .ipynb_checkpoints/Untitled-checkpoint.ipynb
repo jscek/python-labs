{
 "cells": [
  {
   "cell_type": "code",
   "execution_count": 1,
   "metadata": {},
   "outputs": [
    {
     "ename": "NameError",
     "evalue": "name 'a' is not defined",
     "output_type": "error",
     "traceback": [
      "\u001b[0;31m---------------------------------------------------------------------------\u001b[0m",
      "\u001b[0;31mNameError\u001b[0m                                 Traceback (most recent call last)",
      "\u001b[0;32m<ipython-input-1-3895b80bc56b>\u001b[0m in \u001b[0;36m<module>\u001b[0;34m()\u001b[0m\n\u001b[0;32m----> 1\u001b[0;31m \u001b[0minp\u001b[0m \u001b[0;34m=\u001b[0m \u001b[0ma\u001b[0m\u001b[0;34m&\u001b[0m\u001b[0mb\u001b[0m\u001b[0;34m\u001b[0m\u001b[0m\n\u001b[0m",
      "\u001b[0;31mNameError\u001b[0m: name 'a' is not defined"
     ]
    }
   ],
   "source": [
    "inp = 'a&b'"
   ]
  },
  {
   "cell_type": "code",
   "execution_count": null,
   "metadata": {},
   "outputs": [],
   "source": [
    "def onp(expr):\n",
    "\n",
    "  while (len(expr) > 2 and expr[0] == '(') and (expr[len(expr) - 1] == ')') and correct(expr[1:-1]):\n",
    "    expr = expr[1:-1]\n",
    "  \n",
    "  p = bal(expr, '~')\n",
    "  if p >= 0:\n",
    "    return expr[p] + onp(expr[:p]) + onp(expr[p + 1:]) \n",
    "\n",
    "  p = bal(expr, '^')\n",
    "  if p >= 0:\n",
    "    return expr[p] + onp(expr[:p]) + onp(expr[p + 1:])\n",
    "\n",
    "  p = bal(expr, '>')\n",
    "  if p >= 0:\n",
    "    return expr[p] + onp(expr[:p]) + onp(expr[p + 1:])\n",
    "  \n",
    "  p = bal(expr, '&|/')\n",
    "  if p >= 0:\n",
    "    return expr[p] + onp(expr[:p]) + onp(expr[p + 1:])\n",
    "\n",
    "\n",
    "  return expr"
   ]
  }
 ],
 "metadata": {
  "kernelspec": {
   "display_name": "Python 3",
   "language": "python",
   "name": "python3"
  },
  "language_info": {
   "codemirror_mode": {
    "name": "ipython",
    "version": 3
   },
   "file_extension": ".py",
   "mimetype": "text/x-python",
   "name": "python",
   "nbconvert_exporter": "python",
   "pygments_lexer": "ipython3",
   "version": "3.6.4"
  }
 },
 "nbformat": 4,
 "nbformat_minor": 2
}
